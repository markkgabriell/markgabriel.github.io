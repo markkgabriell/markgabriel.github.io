{
 "cells": [
  {
   "cell_type": "markdown",
   "metadata": {},
   "source": [
    "# Python Programming\n",
    "## Welcome to Jupyter (a.k.a. Ipython Notebooks)\n",
    "Take a while to adjust your bearings. Study the icons above.\n",
    "\n",
    "There are two major types of cells:\n",
    "\n",
    "1) Markdown cells - simple text. One can do html tags like <b>BOLD</b> or latex like $\\beta$.\n",
    "\n",
    "2) Code cells - cells where we can run code.\n",
    "\n",
    "<b>Shortcuts</b>\n",
    "\n",
    "1) <b>CTRL-M</b> then <b>H</b> to see help\n",
    "\n",
    "2) <b>CTRL-M</b> then <b>S</b> to save notebook\n",
    "\n",
    "3) <b>CTRL-ENTER</b> to Run Code but stay in the same cell\n",
    "\n",
    "4) <b>SHIFT-ENTER</b> to Run Code and advance to the next cell\n",
    "\n",
    "5) Using <b>%pylab inline</b> preceeding everything else in the notebook imports already matplotlib and numpy. It also enables our graphics to be part of the notebook.\n",
    "\n",
    "6) You can use <b>TAB</b> to see available functions. You can use <b>SHIFT-TAB</b> repeatedly for the documentation."
   ]
  },
  {
   "cell_type": "markdown",
   "metadata": {},
   "source": [
    "# A. Python Programming Language\n",
    "\n",
    "Why python? \n",
    "What is python?"
   ]
  },
  {
   "cell_type": "markdown",
   "metadata": {},
   "source": [
    "# B. Variables and Data Types\n",
    "\n",
    "Python uses five standard data types:\n",
    "\n",
    "### Numbers"
   ]
  },
  {
   "cell_type": "code",
   "execution_count": null,
   "metadata": {
    "collapsed": true
   },
   "outputs": [],
   "source": [
    "varNum = 123\n",
    "pi = 3.14159\n",
    "print(pi)"
   ]
  },
  {
   "cell_type": "markdown",
   "metadata": {},
   "source": [
    "varNum is an Integer, thus it does not handle numbers with decimal places while pi is a Float where values in the decimal place are handled."
   ]
  },
  {
   "cell_type": "markdown",
   "metadata": {},
   "source": [
    "### Strings"
   ]
  },
  {
   "cell_type": "code",
   "execution_count": null,
   "metadata": {
    "collapsed": true
   },
   "outputs": [],
   "source": [
    "varString = \"Hello World!\"\n",
    "varText = 'This is a String'"
   ]
  },
  {
   "cell_type": "markdown",
   "metadata": {},
   "source": [
    "Strings may be declared with a single quote (') or double quote (\"), some even use triple double quotes(\"\"\"). One may use them interchangeable but some prefer to follow a specific format."
   ]
  },
  {
   "cell_type": "markdown",
   "metadata": {},
   "source": [
    "##### note: there are still other data type supported in python (we'll discuss in later time). "
   ]
  },
  {
   "cell_type": "markdown",
   "metadata": {},
   "source": [
    "In order to properly communicate with the computer, we should be clear with the kind of data we are working on. \n",
    "\n",
    "To check the type of data a variable is, we do:"
   ]
  },
  {
   "cell_type": "code",
   "execution_count": null,
   "metadata": {
    "collapsed": true
   },
   "outputs": [],
   "source": [
    "type(pi)"
   ]
  },
  {
   "cell_type": "markdown",
   "metadata": {},
   "source": [
    "## Input and Output"
   ]
  },
  {
   "cell_type": "markdown",
   "metadata": {},
   "source": [
    "For us to know the value of a variable, we display the value by invoking:"
   ]
  },
  {
   "cell_type": "code",
   "execution_count": null,
   "metadata": {
    "collapsed": true
   },
   "outputs": [],
   "source": [
    "print(varString)"
   ]
  },
  {
   "cell_type": "markdown",
   "metadata": {},
   "source": [
    "For instances were the data will be coming \"live\" from the user, we request the data from the user and store the data to a variable name by invoking:"
   ]
  },
  {
   "cell_type": "code",
   "execution_count": null,
   "metadata": {
    "collapsed": true
   },
   "outputs": [],
   "source": [
    "user_number = input(\"Give me a number: \")\n",
    "print(\"The user gave the number\", user_number)"
   ]
  },
  {
   "cell_type": "markdown",
   "metadata": {},
   "source": [
    "## Arithmetic\n",
    "\n",
    "Python uses basic arithmetic functions which are normally present on most if not all programming languages.\n",
    "\n",
    "### Addition"
   ]
  },
  {
   "cell_type": "code",
   "execution_count": null,
   "metadata": {
    "collapsed": true
   },
   "outputs": [],
   "source": [
    "a = 5 + 3\n",
    "print(\"The value of a is\", a)"
   ]
  },
  {
   "cell_type": "markdown",
   "metadata": {},
   "source": [
    "### Subtraction"
   ]
  },
  {
   "cell_type": "code",
   "execution_count": null,
   "metadata": {
    "collapsed": true
   },
   "outputs": [],
   "source": [
    "a = 5 - 3\n",
    "print(a)"
   ]
  },
  {
   "cell_type": "markdown",
   "metadata": {},
   "source": [
    "### Multiplication"
   ]
  },
  {
   "cell_type": "code",
   "execution_count": null,
   "metadata": {
    "collapsed": true
   },
   "outputs": [],
   "source": [
    "a = 5 * 3\n",
    "print(a)"
   ]
  },
  {
   "cell_type": "markdown",
   "metadata": {},
   "source": [
    "### Exponent"
   ]
  },
  {
   "cell_type": "code",
   "execution_count": null,
   "metadata": {
    "collapsed": true
   },
   "outputs": [],
   "source": [
    "a = 5 ** 3\n",
    "print(a)"
   ]
  },
  {
   "cell_type": "markdown",
   "metadata": {},
   "source": [
    "### Division"
   ]
  },
  {
   "cell_type": "code",
   "execution_count": null,
   "metadata": {
    "collapsed": true
   },
   "outputs": [],
   "source": [
    "a = 5 / 3\n",
    "print(a)"
   ]
  },
  {
   "cell_type": "markdown",
   "metadata": {},
   "source": [
    "### Modulus Division"
   ]
  },
  {
   "cell_type": "code",
   "execution_count": null,
   "metadata": {
    "collapsed": true
   },
   "outputs": [],
   "source": [
    "a = 1.2 % 1\n",
    "print(a)"
   ]
  },
  {
   "cell_type": "markdown",
   "metadata": {},
   "source": [
    "### Integer Division"
   ]
  },
  {
   "cell_type": "code",
   "execution_count": null,
   "metadata": {
    "collapsed": true
   },
   "outputs": [],
   "source": [
    "a = 5 // 3\n",
    "print(a)"
   ]
  },
  {
   "cell_type": "markdown",
   "metadata": {},
   "source": [
    "### Increment"
   ]
  },
  {
   "cell_type": "code",
   "execution_count": null,
   "metadata": {
    "collapsed": true
   },
   "outputs": [],
   "source": [
    "a += 1\n",
    "print(a)"
   ]
  },
  {
   "cell_type": "markdown",
   "metadata": {},
   "source": [
    "### Decrement"
   ]
  },
  {
   "cell_type": "code",
   "execution_count": null,
   "metadata": {
    "collapsed": true
   },
   "outputs": [],
   "source": [
    "a -= 5\n",
    "print(a)"
   ]
  },
  {
   "cell_type": "markdown",
   "metadata": {},
   "source": [
    "<b>NOTE:</b> Python does not support the increment/decrement syntax of <b>x++/x--</b> instead you may use the syntax of <b>x+=1/x-=1</b> which is similar to <b>x=x+1/x=x-1</b>"
   ]
  },
  {
   "cell_type": "markdown",
   "metadata": {},
   "source": [
    "### String Concatenation"
   ]
  },
  {
   "cell_type": "markdown",
   "metadata": {},
   "source": [
    "Strings may also be appended with the use of the plus <b>(+)</b> symbol"
   ]
  },
  {
   "cell_type": "code",
   "execution_count": null,
   "metadata": {
    "collapsed": true
   },
   "outputs": [],
   "source": [
    "a = 'Hello ' + 'World!'\n",
    "print(a)"
   ]
  },
  {
   "cell_type": "markdown",
   "metadata": {},
   "source": [
    "### Complex Expressions"
   ]
  },
  {
   "cell_type": "code",
   "execution_count": null,
   "metadata": {
    "collapsed": true
   },
   "outputs": [],
   "source": [
    "a = 3 + 5 - 6 * 2 / 4\n",
    "a"
   ]
  },
  {
   "cell_type": "markdown",
   "metadata": {},
   "source": [
    "# Program Construct No. 1: SEQUENCE"
   ]
  },
  {
   "cell_type": "markdown",
   "metadata": {},
   "source": [
    "Sequence are solutions specified as instructions executed one after the other, in order."
   ]
  },
  {
   "cell_type": "markdown",
   "metadata": {},
   "source": [
    "## Example:"
   ]
  },
  {
   "cell_type": "markdown",
   "metadata": {},
   "source": [
    "Problem: Given 2 numbers, display the sum\n",
    "\n",
    "Solution: (Pseudocode)\n",
    "      1. Ask number from the user 2x\n",
    "      2. add the numbers\n",
    "      3. display the numbers"
   ]
  },
  {
   "cell_type": "code",
   "execution_count": null,
   "metadata": {
    "collapsed": true
   },
   "outputs": [],
   "source": [
    "user_number1 = input(\"Give me a number: \")\n",
    "user_number2 = input(\"Give me another number: \")\n",
    "sum = int(user_number1) + int(user_number2)\n",
    "print(\"The sum of\", user_number1, \" and\", user_number2, \" is\", sum)"
   ]
  },
  {
   "cell_type": "markdown",
   "metadata": {},
   "source": [
    "Problem: Compute the area of a circle\n",
    "\n",
    "Solution: (Pseudocode)\n",
    "    1. Inputs?\n",
    "    2. Steps to be done on the inputs.\n",
    "    3. Output?"
   ]
  },
  {
   "cell_type": "code",
   "execution_count": null,
   "metadata": {
    "collapsed": true
   },
   "outputs": [],
   "source": []
  },
  {
   "cell_type": "markdown",
   "metadata": {},
   "source": [
    "## Challenge! Write the following to code\n",
    "\n",
    "$$ g(z) = \\frac{1}{1+e^{z}}  $$\n",
    "\n",
    "1) z = 8, and e = 2.718 should be equal to 0.0003\n",
    "\n",
    "2) z = 2, and e = 2.718 should be equal to 0.1192246961081721"
   ]
  },
  {
   "cell_type": "code",
   "execution_count": null,
   "metadata": {
    "collapsed": true
   },
   "outputs": [],
   "source": []
  },
  {
   "cell_type": "markdown",
   "metadata": {},
   "source": [
    "<b><i>TRIVIA</i></b>: The value <b>e</b>, also called <b>Euler's number</b>, is a mathematical constant representing an irrational number that is approximately <b>2.71828</b>. Irrational, meaning the constant <b>e</b> is a real number that is unending and is unable to accurately be represented as a fraction, similar to that of <b>pi</b>."
   ]
  },
  {
   "cell_type": "markdown",
   "metadata": {},
   "source": [
    "# C. Control Statements"
   ]
  },
  {
   "cell_type": "markdown",
   "metadata": {},
   "source": [
    "\"Control statements are statements that determine whether other statements will be executed\" -- CIS, Univ. Pennsylvania\n",
    "<br/>\n",
    "\n",
    "#### Note:\n",
    "<ul>\n",
    "<li>For each line declaring either branching/iteration, a semi-colon (:) is required.</li>\n",
    "<li>Important operators for Program Construct No. 2 and 3</li>\n",
    "</ul>"
   ]
  },
  {
   "cell_type": "markdown",
   "metadata": {},
   "source": [
    "<table><tr><th colspan=2>Relational Operators</th><th colspan=2>  </th><th colspan=2>Logical Operators</th></tr><tr><td> > </td><td>Greater than</td><td rowspan=2 colspan=2>  </td><td rowspan=2 colspan=2>and</td></tr><tr><td> < </td><td>Greater than</td></tr><tr><td> >= </td><td>Greater than or equal to</td><td rowspan=2 colspan=2>  </td><td rowspan=2 colspan=2>or</td></tr><tr><td> <= </td><td>Less than or equal to</td></tr><tr><td> == </td><td>Equal</td><td rowspan=2 colspan=2>  </td><td rowspan=2 colspan=2>not</td></tr><tr><td> != </td><td>Not equal</td></tr></table>"
   ]
  },
  {
   "cell_type": "markdown",
   "metadata": {},
   "source": [
    "## Program Construct No. 2: Branching"
   ]
  },
  {
   "cell_type": "markdown",
   "metadata": {},
   "source": [
    "Branching (also called Conditionals) are solutions specified as instructions following control statements (if/switch).\n",
    "\n",
    "#### Note:\n",
    "In Python, curly brackets are not used to designate that multiple commands are inside a conditional statement, instead uniform spacing is used. Please take note however that the composition of the uniform spacing must be the same, such that if 4 spaces are being used, even though 4 spaces may have a visually similar result as a tab, interchanging them would produce an error statement. \n",
    "\n",
    "### Boolean Condition"
   ]
  },
  {
   "cell_type": "code",
   "execution_count": null,
   "metadata": {
    "collapsed": true
   },
   "outputs": [],
   "source": [
    "x = True\n",
    "if x:\n",
    "    print(\"var x is True\")\n",
    "else:\n",
    "    print(\"var x is False\")"
   ]
  },
  {
   "cell_type": "markdown",
   "metadata": {},
   "source": [
    "### String Condition"
   ]
  },
  {
   "cell_type": "code",
   "execution_count": null,
   "metadata": {
    "collapsed": true
   },
   "outputs": [],
   "source": [
    "x = \"Hello World!\"\n",
    "\n",
    "if x == 'Hello World!':\n",
    "    print(\"var x is Hello World!\")\n",
    "else:\n",
    "    print(\"var x is not Hello World!\")"
   ]
  },
  {
   "cell_type": "markdown",
   "metadata": {},
   "source": [
    "### Numerical Condition"
   ]
  },
  {
   "cell_type": "code",
   "execution_count": null,
   "metadata": {
    "collapsed": true
   },
   "outputs": [],
   "source": [
    "x = 10\n",
    "\n",
    "if x == '10':\n",
    "    print(\"var x is a String\")\n",
    "elif x == 10:\n",
    "    print(\"var x in an Integer\")\n",
    "else:\n",
    "    print(\"var x is none of the above\")"
   ]
  },
  {
   "cell_type": "markdown",
   "metadata": {},
   "source": [
    "### Multiple Conditions\n"
   ]
  },
  {
   "cell_type": "code",
   "execution_count": null,
   "metadata": {
    "collapsed": true
   },
   "outputs": [],
   "source": [
    "x = 11\n",
    "\n",
    "if x > 5 and x < 15 and x == 10:\n",
    "    print(\"var x is really 10!\")\n",
    "else:\n",
    "    print(\"var x is not really 10\")"
   ]
  },
  {
   "cell_type": "code",
   "execution_count": null,
   "metadata": {
    "collapsed": true
   },
   "outputs": [],
   "source": [
    "x = 10\n",
    "\n",
    "if x == 10 or x == 20:\n",
    "    print(\"var x can be 10 or 20\")\n",
    "else:\n",
    "    print(\"var x is not 10 nor 20\")"
   ]
  },
  {
   "cell_type": "markdown",
   "metadata": {},
   "source": [
    "## Challenge! Write the following to code\n",
    "\n",
    "Using the GWA calculator program, specify which category the GWA of the student falls under:\n",
    "<ul><li>GWA of 1.0-1.44 --> University Scholars</li><li>GWA of 1.45-1.75 --> College Scholars</li><li>GWA of 1.76-2.0 --> honor roll. </li><li>GWA of 2.01... --> UP Students, fighting maroons!</li></ul>\n"
   ]
  },
  {
   "cell_type": "code",
   "execution_count": null,
   "metadata": {
    "collapsed": true
   },
   "outputs": [],
   "source": []
  },
  {
   "cell_type": "markdown",
   "metadata": {},
   "source": [
    "## Program Construct No. 3: Iteration\n",
    "\n",
    "Iteration (also called Loops) are solutions specified as instructions executed more than once (depending on control statement loop)\n",
    "\n",
    "#### Note: \n",
    "Similar with that of Conditional Statements, commands within a loop are designated by having a uniform spacing.\n",
    "\n",
    "### For Loops"
   ]
  },
  {
   "cell_type": "code",
   "execution_count": null,
   "metadata": {
    "collapsed": true
   },
   "outputs": [],
   "source": [
    "for var in range(0,5,2):\n",
    "    print(var)"
   ]
  },
  {
   "cell_type": "markdown",
   "metadata": {},
   "source": [
    "<b>NOTE:</b> \n",
    "<br/>\n",
    "<i>range([start], stop, [step])</i>\n",
    "<br/>The command <b>range(0,5,2)</b> is equivalent to all numbers from 0 incremented by 2 until it reaches the number less than 5"
   ]
  },
  {
   "cell_type": "markdown",
   "metadata": {},
   "source": [
    "### While Loops"
   ]
  },
  {
   "cell_type": "code",
   "execution_count": null,
   "metadata": {
    "collapsed": true
   },
   "outputs": [],
   "source": [
    "var = 0\n",
    "while var < 5:\n",
    "    print(var)\n",
    "    var += 2"
   ]
  },
  {
   "cell_type": "markdown",
   "metadata": {},
   "source": [
    "### Nested Loops"
   ]
  },
  {
   "cell_type": "code",
   "execution_count": null,
   "metadata": {
    "collapsed": true
   },
   "outputs": [],
   "source": [
    "x = 0\n",
    "while x < 5:\n",
    "    for y in range(0, x):\n",
    "        print(y, end='')\n",
    "    x+=1\n",
    "    print()"
   ]
  },
  {
   "cell_type": "markdown",
   "metadata": {},
   "source": [
    "#### Note: \n",
    "<b><u>Behavior changing keywords</u></b>"
   ]
  },
  {
   "cell_type": "markdown",
   "metadata": {},
   "source": [
    "<b>break</b> exits out the smallest enclosing loop. "
   ]
  },
  {
   "cell_type": "code",
   "execution_count": null,
   "metadata": {
    "collapsed": true
   },
   "outputs": [],
   "source": [
    "while True:\n",
    "    num = int(input(\"Enter a positive number: \"))\n",
    "    \n",
    "    if num <= 0:\n",
    "        print(\"You've entered a non-positive number.\")\n",
    "        break"
   ]
  },
  {
   "cell_type": "markdown",
   "metadata": {},
   "source": [
    "<b>continue</b> forces a loop to loop again, skipping the rest of the body."
   ]
  },
  {
   "cell_type": "code",
   "execution_count": null,
   "metadata": {
    "collapsed": true
   },
   "outputs": [],
   "source": [
    "for i in range(0, 10):\n",
    "    if i%2 == 0:\n",
    "        print(\"Even \")\n",
    "        continue\n",
    "    print(\"Odd \",i)"
   ]
  },
  {
   "cell_type": "markdown",
   "metadata": {},
   "source": [
    "## Challenge! Write the following to code\n",
    "\n",
    "Using the GWA calculator program, allow the user to input at least 1, but not exceeding 10, \"grade-units\" pair ."
   ]
  },
  {
   "cell_type": "code",
   "execution_count": null,
   "metadata": {
    "collapsed": true
   },
   "outputs": [],
   "source": []
  },
  {
   "cell_type": "markdown",
   "metadata": {},
   "source": [
    "# D. Functions\n",
    "\n",
    "Real-world problems are made up of smaller problems which are also part of other problems.\n",
    "\n",
    "<b>2 types of function:</b> \n",
    "<ul><li>Built-in Functions</li><li>User-defined Functions</li></ul>"
   ]
  },
  {
   "cell_type": "markdown",
   "metadata": {},
   "source": [
    "## Built-in Functions\n",
    "\n",
    "Built-in functions are several programming routines that come built into most common programming languages. These routines are very useful for it can save you a lot of effort in writing code to perform common tasks."
   ]
  },
  {
   "cell_type": "markdown",
   "metadata": {},
   "source": [
    "### Library\n",
    "\n",
    "Libraries are collection of files containing pre-compiled routines that a program can use. "
   ]
  },
  {
   "cell_type": "markdown",
   "metadata": {},
   "source": [
    "#### Python Standard Library\n",
    "Python has its own set of built-in functions (found in https://docs.python.org/3/library/functions.html. Below are some examples:\n",
    "<ul><li>input([prompt])\n",
    "<br/>If the prompt argument is present, it is written to standard output without a trailing newline. The function then reads a line from input, converts it to a string (stripping a trailing newline), and returns that.</li><li>\n",
    "print(*objects, sep=' ', end='\\n', file=sys.stdout, flush=False)\n",
    "<br/>Print objects to the text stream file, separated by sep and followed by end. sep, end, file and flush, if present, must be given as keyword arguments.</li></ul>"
   ]
  },
  {
   "cell_type": "code",
   "execution_count": null,
   "metadata": {
    "collapsed": true
   },
   "outputs": [],
   "source": [
    "input_value = float(input(\"Input a number: \"))\n",
    "if input_value.is_integer() == True:\n",
    "    print(input_value, \"is an integer\")\n",
    "else:\n",
    "    print(input_value, \"is not an integer\")"
   ]
  },
  {
   "cell_type": "markdown",
   "metadata": {},
   "source": [
    "<b>Note:</b> <br/>Some operations are supported by several object types (found in https://docs.python.org/2/library/stdtypes.html); in particular, practically all objects can be compared, tested for truth value, and converted to a string (with the repr() function or the slightly different str() function).<br/>i.e.<ul><li>float.is_integer()<br/>\n",
    "Return True if the float instance is finite with integral value, and False otherwise:</li></ul>"
   ]
  },
  {
   "cell_type": "code",
   "execution_count": null,
   "metadata": {
    "collapsed": true
   },
   "outputs": [],
   "source": [
    "result = (-2.0).is_integer()\n",
    "print(\"Is -2.0 an integer?\", result)\n",
    "result = (-2.4).is_integer()\n",
    "print(\"Is -2.4 an integer?\", result)"
   ]
  },
  {
   "cell_type": "markdown",
   "metadata": {},
   "source": [
    "<ul><li>str.lower()<br/>Return a copy of the string with all the cased characters [4] converted to lowercase.</li></ul>"
   ]
  },
  {
   "cell_type": "code",
   "execution_count": null,
   "metadata": {
    "collapsed": true
   },
   "outputs": [],
   "source": [
    "string_input = input(\"Type anything (mix upper and lower case): \")\n",
    "print(string_input.lower())"
   ]
  },
  {
   "cell_type": "markdown",
   "metadata": {},
   "source": [
    "#### Try:\n",
    "What does the code below do?"
   ]
  },
  {
   "cell_type": "code",
   "execution_count": null,
   "metadata": {
    "collapsed": true
   },
   "outputs": [],
   "source": [
    "val1, val2 = input(\"Input 2 numbers:\").split()\n",
    "print(\"User values are:\", val1, \"and\", val2)\n",
    "print(\"Is\", val1, \"integer?\", val1.isdecimal())\n",
    "print(\"Is\", val2, \"integer?\", val2.isdigit())"
   ]
  },
  {
   "cell_type": "markdown",
   "metadata": {
    "collapsed": true
   },
   "source": [
    "### Other Important Python libraries\n",
    "\n",
    "<ul><li><b>Pillow</b><br/>Contains functions for \"easy\" processing of images</li><li><b>Numpy</b><br/>Contains advance math functionalities (core library for scientific computing in python)</li><li><b>matplotlib</b><br/>Contains functions numerical plotting</li></ul>"
   ]
  },
  {
   "cell_type": "code",
   "execution_count": null,
   "metadata": {
    "collapsed": true
   },
   "outputs": [],
   "source": [
    "import numpy \n",
    "\n",
    "for i in range(0,4):\n",
    "    print(numpy.random.randint(1, 10), end=' ')"
   ]
  },
  {
   "cell_type": "markdown",
   "metadata": {},
   "source": [
    "### User-defined Functions\n",
    "\n",
    "User-defined functions are reusable <b>code blocks</b>, written independently by the developer. User-defined functions are created to meet certain, problem-specific requirements.\n",
    "\n",
    "Basic steps in writing user-defined functions:\n",
    "<ul><li>Step 1: Declare the function with the keyword <b><i>def</i></b> followed by the function name.</li><li>Step 2: Write the parameters <b><i>inside</i></b> the opening and closing parentheses of the function, and end the declaration with a <b><i>colon(:)</i></b>.</li><li>Step 3: Add the program statements to be executed.</li><li>Step 4: End the function with/without <b><i>return</i></b> statement</li></ul>"
   ]
  },
  {
   "cell_type": "code",
   "execution_count": null,
   "metadata": {
    "collapsed": true
   },
   "outputs": [],
   "source": [
    "def larger(num1, num2):\n",
    "    if num1>num2:\n",
    "        return num1\n",
    "    else:\n",
    "        return num2"
   ]
  },
  {
   "cell_type": "code",
   "execution_count": null,
   "metadata": {
    "collapsed": true
   },
   "outputs": [],
   "source": [
    "num = larger(3,4)\n",
    "print(\"The larger number is\", num)"
   ]
  },
  {
   "cell_type": "markdown",
   "metadata": {},
   "source": [
    "## Function Workspace\n",
    "\n",
    "Every function has its own <b>Workspace</b>. This means that every data (variable) created inside the function is only usable during the execution of the function (and then the data is deleted (or the variables go away))."
   ]
  },
  {
   "cell_type": "code",
   "execution_count": null,
   "metadata": {
    "collapsed": true
   },
   "outputs": [],
   "source": [
    "def f(x):\n",
    "    y=1\n",
    "    x = x+y\n",
    "    print(\"Inside function x =\", x)\n",
    "    return x\n",
    "\n",
    "x = 3\n",
    "y = 2\n",
    "z = f(x)\n",
    "print(\"z =\", z)\n",
    "print(\"Outside function x =\", x)\n",
    "print(\"y =\", y)"
   ]
  },
  {
   "cell_type": "markdown",
   "metadata": {},
   "source": [
    "## Challenge! Given the code below, convert it into a function.\n",
    "Problem: Given an integer, determine whether it is prime or composite.<br/>\n",
    "Input?<br/>\n",
    "Process?<br/>\n",
    "Output?"
   ]
  },
  {
   "cell_type": "code",
   "execution_count": null,
   "metadata": {
    "collapsed": true
   },
   "outputs": [],
   "source": [
    "x = int(input(\"Enter x: \"))\n",
    "x_is_prime = True\n",
    "\n",
    "#if we can find a divisor between 2 to x-1, then x is composite\n",
    "for i in range (2, x):\n",
    "    if x%i == 0:\n",
    "        x_is_prime = False\n",
    "        break #exit the closest loop\n",
    "\n",
    "if x_is_prime:\n",
    "    print(x, \"is prime\")\n",
    "else:\n",
    "    print(x, \"is composite\")"
   ]
  },
  {
   "cell_type": "code",
   "execution_count": null,
   "metadata": {
    "collapsed": true
   },
   "outputs": [],
   "source": []
  },
  {
   "cell_type": "markdown",
   "metadata": {},
   "source": [
    "## Challenge! Write the following to code\n",
    "\n",
    "Given your multiplication-via-addition program. Create a <b>single function</b> for filtering correct input for multiplier and multiplicand.<br/>\n",
    "Function Name?<br/>\n",
    "Parameters?<br/>\n",
    "Return value?"
   ]
  },
  {
   "cell_type": "code",
   "execution_count": null,
   "metadata": {
    "collapsed": true
   },
   "outputs": [],
   "source": []
  },
  {
   "cell_type": "markdown",
   "metadata": {},
   "source": [
    "# E. Data Structures 1: Strings and Lists\n",
    "\n",
    "## Data Structures\n",
    "A systematic way of organizing and accessing data\n",
    "\n",
    "#### 5 Major Built-in Data Structures in Python\n",
    "<ul><li>Strings</li><li>Lists</li><li>Dictionaries</li><li>File Object</li><li>Tuple</li><li>Set</li></ul>\n",
    "\n",
    "\n",
    "## Strings\n",
    "Strings are ordered sequences of characters, with index count starting from 0 and read from left to right. It is the most important data structure in Python, as it is instrumental in recording textual information."
   ]
  },
  {
   "cell_type": "code",
   "execution_count": null,
   "metadata": {
    "collapsed": true
   },
   "outputs": [],
   "source": [
    "example_string = \"CMSC11 is fun!\"\n",
    "print(\"The character at index 0 is\", example_string[0])\n",
    "print(\"The character at index 3 is\", example_string[8])"
   ]
  },
  {
   "cell_type": "markdown",
   "metadata": {},
   "source": [
    "What does the code below do? "
   ]
  },
  {
   "cell_type": "code",
   "execution_count": null,
   "metadata": {
    "collapsed": true
   },
   "outputs": [],
   "source": [
    "for i in range(0, len(example_string)):\n",
    "    print(\"Index\",i,\": \", example_string[i])"
   ]
  },
  {
   "cell_type": "code",
   "execution_count": null,
   "metadata": {
    "collapsed": true
   },
   "outputs": [],
   "source": [
    "for j in example_string:\n",
    "    print(\"The string\", j)"
   ]
  },
  {
   "cell_type": "markdown",
   "metadata": {},
   "source": [
    "<b>Immutability</b><br/>Pythong Strings are immutable. Meaning, once declared, it cannot be modified. If wanting to utilize the original word to another, better use concatenation<br/><b>Example</b>"
   ]
  },
  {
   "cell_type": "code",
   "execution_count": null,
   "metadata": {
    "collapsed": true
   },
   "outputs": [],
   "source": [
    "example_string[5] = '2'"
   ]
  },
  {
   "cell_type": "markdown",
   "metadata": {},
   "source": [
    "but since String is a data strucuture, there are a lot of built-in functions that are designed in order to work with it."
   ]
  },
  {
   "cell_type": "code",
   "execution_count": null,
   "metadata": {
    "collapsed": true
   },
   "outputs": [],
   "source": [
    "example_string."
   ]
  },
  {
   "cell_type": "markdown",
   "metadata": {},
   "source": [
    "Below are certain operations we can use to manipulate and/or access data(or substrings) inside a string:<br/><ul><li><b>Slicing</b> - operation for extracting substring of arbitrary(or any) length<br/></li><li><b>Concatenation</b> - operation for combining multiple different strings to form a single new string </li><li><b>Repetition</b> - operation for combining re-using the same string (multiple times) to form a single new string </li></ul>"
   ]
  },
  {
   "cell_type": "markdown",
   "metadata": {},
   "source": [
    "<b>Slicing</b>"
   ]
  },
  {
   "cell_type": "code",
   "execution_count": null,
   "metadata": {
    "collapsed": true
   },
   "outputs": [],
   "source": [
    "result_1 = \"hello\"[1:3]\n",
    "result_2 = \"hello\"[3:]\n",
    "result_3 = \"hello\"[:2]\n",
    "\n",
    "statement = \"There are no strings on me.\"\n",
    "sliced = statement[3:8]"
   ]
  },
  {
   "cell_type": "markdown",
   "metadata": {},
   "source": [
    "<b>Concatenation and Repetition</b>"
   ]
  },
  {
   "cell_type": "code",
   "execution_count": null,
   "metadata": {
    "collapsed": true
   },
   "outputs": [],
   "source": [
    "#concatenation example\n",
    "concat = \"ban\"+\"ana\"\n",
    "repeat = \"nom\"*3\n",
    "print(concat, repeat)"
   ]
  },
  {
   "cell_type": "markdown",
   "metadata": {},
   "source": [
    "## Lists\n",
    "Strings are ordered sequences of elements. Description of List is very similar to String, other than, Lists are mutable and can have elements of any type."
   ]
  },
  {
   "cell_type": "code",
   "execution_count": null,
   "metadata": {
    "collapsed": true
   },
   "outputs": [],
   "source": [
    "example_list1 = [\"one\", 1, \"two\", 2, True]\n",
    "example_list2 = [1,2,3]\n",
    "example_list3 = []\n",
    "example_list4 = [1]"
   ]
  },
  {
   "cell_type": "code",
   "execution_count": null,
   "metadata": {
    "collapsed": true
   },
   "outputs": [],
   "source": [
    "for i in range(0, len(example_list1)):\n",
    "    print(example_list1[i])"
   ]
  },
  {
   "cell_type": "code",
   "execution_count": null,
   "metadata": {
    "collapsed": true
   },
   "outputs": [],
   "source": [
    "for i in example_list1:\n",
    "    print(i)"
   ]
  },
  {
   "cell_type": "markdown",
   "metadata": {},
   "source": [
    "<b>Mutability</b><br/>Contents of the list can be changed at any given point in time<br/><b>Example</b>"
   ]
  },
  {
   "cell_type": "code",
   "execution_count": null,
   "metadata": {
    "collapsed": true
   },
   "outputs": [],
   "source": [
    "names = [\"Daniel\", \"Joseph\", \"Job\"]\n",
    "print(names)\n",
    "\n",
    "names[1] = \"Jacob\"\n",
    "print(names)"
   ]
  },
  {
   "cell_type": "code",
   "execution_count": null,
   "metadata": {
    "collapsed": true
   },
   "outputs": [],
   "source": [
    "numbers = [0,1,2,3,4]\n",
    "print(numbers)\n",
    "\n",
    "for i in range(0, len(numbers)):\n",
    "    numbers[i] += 6\n",
    "print(numbers)"
   ]
  },
  {
   "cell_type": "markdown",
   "metadata": {},
   "source": [
    "Aside from the inherent operations that Lists do support (because of mutability), there still exist a number of operation in order to further manipulate it.<br/>What does the following code do? "
   ]
  },
  {
   "cell_type": "code",
   "execution_count": null,
   "metadata": {
    "collapsed": true
   },
   "outputs": [],
   "source": [
    "list_1 = [\"one\", 2, \"three\"]\n",
    "print(list_1[1])\n",
    "list_2 = [4, \"five\", 6]\n",
    "list_3 = list_1 + list_2\n",
    "print(list_3[2:5])"
   ]
  },
  {
   "cell_type": "code",
   "execution_count": null,
   "metadata": {
    "collapsed": true
   },
   "outputs": [],
   "source": [
    "list_1.append(list_2)\n",
    "print(list_1)\n",
    "list_1.pop(1)\n",
    "print(list_1)"
   ]
  },
  {
   "cell_type": "markdown",
   "metadata": {},
   "source": [
    "## Challenge! Write the following to code\n",
    "\n",
    "Problem: Given N, create a list containing N user-inputted integers"
   ]
  },
  {
   "cell_type": "code",
   "execution_count": null,
   "metadata": {
    "collapsed": true
   },
   "outputs": [],
   "source": []
  },
  {
   "cell_type": "markdown",
   "metadata": {},
   "source": [
    "# F. Data Structures 2: Dictionaries\n",
    "\n",
    "Objects of type dict (dictionary) are like lists except for the following:<br/><ul><li>\"indices\" may not be integer.<br/>\"indices\", for dictionaries, can be values of any immutable type.</li><li>not a sequence type<br/>since its indices can be any value, ordering is not possible.</li></ul><br/>Note: Dictionaries, in Python, are also known as \"mappings\", because they \"map\" or \"associate\" key objects to value objects<br/><br/>Try the following code-blocks."
   ]
  },
  {
   "cell_type": "code",
   "execution_count": null,
   "metadata": {
    "collapsed": true
   },
   "outputs": [],
   "source": [
    "var = \"Hello World!\"\n",
    "varDict = {'first' : 123, 2 : 'abc', '3' : var, 4:['lista', 'listb']}\n",
    "print(varDict['first'])"
   ]
  },
  {
   "cell_type": "code",
   "execution_count": null,
   "metadata": {
    "collapsed": true
   },
   "outputs": [],
   "source": [
    "print(varDict[2])"
   ]
  },
  {
   "cell_type": "code",
   "execution_count": null,
   "metadata": {
    "collapsed": true
   },
   "outputs": [],
   "source": [
    "print(varDict['3'])"
   ]
  },
  {
   "cell_type": "code",
   "execution_count": null,
   "metadata": {
    "collapsed": true
   },
   "outputs": [],
   "source": [
    "print(varDict[4])"
   ]
  },
  {
   "cell_type": "code",
   "execution_count": null,
   "metadata": {
    "collapsed": true
   },
   "outputs": [],
   "source": [
    "print(varDict[4][1])"
   ]
  },
  {
   "cell_type": "code",
   "execution_count": null,
   "metadata": {
    "collapsed": true
   },
   "outputs": [],
   "source": [
    "len(varDict)"
   ]
  },
  {
   "cell_type": "markdown",
   "metadata": {},
   "source": [
    "<b>Mutability</b><br/>Since Dictionaries are mutable, we can add a new entry to it (provided we give a new \"unique\" key for it). If an existing key is provided for the \"new\" entry, the value, corresponding the key, will instead be changed."
   ]
  },
  {
   "cell_type": "code",
   "execution_count": null,
   "metadata": {
    "collapsed": true
   },
   "outputs": [],
   "source": [
    "varDict[1.5] = \"trial\" \n",
    "print(varDict)"
   ]
  },
  {
   "cell_type": "code",
   "execution_count": null,
   "metadata": {
    "collapsed": true
   },
   "outputs": [],
   "source": [
    "varDict[\"first\"] = \"CMSC 11\"\n",
    "print(varDict)"
   ]
  },
  {
   "cell_type": "markdown",
   "metadata": {},
   "source": [
    "<b>Iteration</b><br/>Since Dictionaries aren't a sequence type, we cannot just use it in <i>for..in..range</i> or in <i>for loop with variable as index, for accesing the values</i>. Instead, we are to use the following attributes of the Dictionaries as the tool for iteration:<ul><li>_dict_.keys()<br/>equivalent to just the plain _dict_</li><li>_dict_.values()<br/>used to iterate through the dictionary while accesing the values specifically</li><li>_dict_.items()<br/>used to iterate through the dictionary to access the value alongside its key</li></ul><br/>Try the following codes:"
   ]
  },
  {
   "cell_type": "code",
   "execution_count": null,
   "metadata": {
    "collapsed": true
   },
   "outputs": [],
   "source": [
    "for k in varDict.keys():\n",
    "    print(k)"
   ]
  },
  {
   "cell_type": "code",
   "execution_count": null,
   "metadata": {
    "collapsed": true
   },
   "outputs": [],
   "source": [
    "for k in varDict.values():\n",
    "    print(k)"
   ]
  },
  {
   "cell_type": "code",
   "execution_count": null,
   "metadata": {
    "collapsed": true
   },
   "outputs": [],
   "source": [
    "for i,j in varDict.items():\n",
    "    print(i,j)"
   ]
  },
  {
   "cell_type": "markdown",
   "metadata": {},
   "source": [
    "## Mini-Challenge! Write the following to code\n",
    "\n",
    "I want to delete the entry <b>abc</b> from the dictionary <u>varDict</u>\n"
   ]
  },
  {
   "cell_type": "code",
   "execution_count": null,
   "metadata": {
    "collapsed": true
   },
   "outputs": [],
   "source": []
  },
  {
   "cell_type": "markdown",
   "metadata": {},
   "source": [
    "## Challenge! Write the following to code\n",
    "\n",
    "Create a student record with the following information:<ul><li>Student Number</li><li>Complete Name</li><li>Year Level</li><li>Age</li></ul><br/>Note: Use a list within a dictionary"
   ]
  },
  {
   "cell_type": "code",
   "execution_count": null,
   "metadata": {
    "collapsed": true
   },
   "outputs": [],
   "source": []
  },
  {
   "cell_type": "markdown",
   "metadata": {},
   "source": [
    "# F. Data Structures 3: Files\n",
    "\n",
    "The data structures that we know so far (variables, strings, lists, dictionaries) are stored in the main memory. Once the program terminates, the data contained in those data structures are released from the main memory.<br/><br/><b>How can we store data more permanently?</b><br/>A file is a collection of bytes stored in a secondary storage device.\n",
    "Example of secondary storage devices are floppy disks, cd/dvd-roms, hard disks, and flash drives.<br/><br/>\n",
    "<i>Note: Computers use files to save things from one computation to the next.</i><br/><br/>Try the code below. What does it do? "
   ]
  },
  {
   "cell_type": "code",
   "execution_count": null,
   "metadata": {
    "collapsed": true
   },
   "outputs": [],
   "source": [
    "fileHandle = open(\"hello\", \"w\")\n",
    "fileHandle.write(\"Hello world!\")\n",
    "fileHandle.close()"
   ]
  },
  {
   "cell_type": "markdown",
   "metadata": {},
   "source": [
    "## Files\n",
    "In Python, we access files through something called a file handle. Think of a file handle as a variable that represents a file.<br/><br/>\n",
    "<b>Syntax:</b><br/>\n",
    "&nbsp;&nbsp;&nbsp;&nbsp;<i>variable_to_hold_file = open(filename, mode)</i><br/>where,<br/>\n",
    "&nbsp;&nbsp;&nbsp;&nbsp;filename - the name of the file (str)<br/>\n",
    "&nbsp;&nbsp;&nbsp;&nbsp;mode - the mode of operation (we'll go back to this later)<br/><br/>Try the code below:"
   ]
  },
  {
   "cell_type": "code",
   "execution_count": null,
   "metadata": {
    "collapsed": true
   },
   "outputs": [],
   "source": [
    "hello_world = \"Hello world!\"\n",
    "\n",
    "fileHandle = open(\"hello\", \"w\")\n",
    "\n",
    "fileHandle.write(hello_world)\n",
    "fileHandle.write(\"I'm in a file!\")\n",
    "fileHandle.write(\"Awesome.\")\n",
    "\n",
    "fileHandle.close()"
   ]
  },
  {
   "cell_type": "markdown",
   "metadata": {},
   "source": [
    "### File Writing\n",
    "\n",
    "Creating a new file can be done via specifying the file name of the file and invoking the call function with a \"w\" mode."
   ]
  },
  {
   "cell_type": "code",
   "execution_count": null,
   "metadata": {
    "collapsed": true
   },
   "outputs": [],
   "source": [
    "hello_world = \"Hello world!\"\n",
    "\n",
    "fileHandle = open(\"hello\", \"w\")\n",
    "\n",
    "fileHandle.write(hello_world+\"\\n\")\n",
    "fileHandle.write(\"I'm in a file!\\n\")\n",
    "fileHandle.write(\"Awesome.\")\n",
    "\n",
    "fileHandle.close()"
   ]
  },
  {
   "cell_type": "markdown",
   "metadata": {},
   "source": [
    "## Challenge! Write the following to code\n",
    "\n",
    "Create a program that writes N names in a file (named names.txt)"
   ]
  },
  {
   "cell_type": "code",
   "execution_count": null,
   "metadata": {
    "collapsed": true
   },
   "outputs": [],
   "source": []
  },
  {
   "cell_type": "markdown",
   "metadata": {},
   "source": [
    "### File Reading\n",
    "\n",
    "Reading an existing file can be done via specifying the file name (make sure that the program being run and the file to be opened are identified with the right address/file location) and invoking the call function with a \"r\" mode.<br/><br/>Note:  Python treats a file as a sequence of lines. Since it is a sequence, we could use a for loop to iterate over the file's contents."
   ]
  },
  {
   "cell_type": "code",
   "execution_count": null,
   "metadata": {
    "collapsed": true
   },
   "outputs": [],
   "source": [
    "# read the file that you have created in challenge 1\n",
    "readHandle = open(\"names.txt\", \"r\")\n",
    "\n",
    "#the variable line will be holding each line from our file\n",
    "for line in readHandle:\n",
    "    print(line)\n",
    "    \n",
    "readHandle.close()"
   ]
  },
  {
   "cell_type": "code",
   "execution_count": null,
   "metadata": {
    "collapsed": true
   },
   "outputs": [],
   "source": [
    "# read the file that you have created in challenge 1\n",
    "readHandle = open(\"names.txt\", \"r\")\n",
    "\n",
    "#the variable line will be holding each line from our file\n",
    "for line in readHandle:\n",
    "    print(line[:-1])\n",
    "    \n",
    "readHandle.close()"
   ]
  },
  {
   "cell_type": "code",
   "execution_count": null,
   "metadata": {
    "collapsed": true
   },
   "outputs": [],
   "source": [
    "names = []\n",
    "\n",
    "# read the file that you have created in challenge 1\n",
    "readHandle = open(\"names.txt\", \"r\")\n",
    "\n",
    "#the variable line will be holding each line from our file\n",
    "for line in readHandle:\n",
    "    name = line[:-1]\n",
    "    names.append(name)\n",
    "    \n",
    "readHandle.close()\n",
    "\n",
    "print(names)"
   ]
  },
  {
   "cell_type": "markdown",
   "metadata": {},
   "source": [
    "## Challenge! Write the following to code\n",
    "\n",
    "Given a file created via the code below, create a program that would read and print the contents of the resultant file."
   ]
  },
  {
   "cell_type": "code",
   "execution_count": null,
   "metadata": {
    "collapsed": true
   },
   "outputs": [],
   "source": [
    "#the program below writes N names (with that person's age) in a file.\n",
    "\n",
    "N = int(input(\"How many names?\"))\n",
    "\n",
    "nameHandle = open(\"names.txt\", \"w\")\n",
    "\n",
    "for i in range(N):\n",
    "    name = input(\"Enter name:\")\n",
    "    age = int(input(\"What's his/her age? \"))\n",
    "    nameHandle.write(name+\" \"+str(age)+'\\n')\n",
    "    \n",
    "nameHandle.close()"
   ]
  },
  {
   "cell_type": "code",
   "execution_count": null,
   "metadata": {
    "collapsed": true
   },
   "outputs": [],
   "source": []
  },
  {
   "cell_type": "markdown",
   "metadata": {},
   "source": [
    "## File Append\n",
    "\n",
    "In order to ensure that the contents of the file before writing is maintained, instead of mode \"w\", mode \"a\" (for append) should be used. "
   ]
  },
  {
   "cell_type": "code",
   "execution_count": null,
   "metadata": {
    "collapsed": true
   },
   "outputs": [],
   "source": [
    "appendHandle = open(\"names.txt\", \"a\")\n",
    "\n",
    "appendHandle.write(\"Jacob 23\\n\")\n",
    "appendHandle.write(\"Joseph 13\\n\")\n",
    "\n",
    "appendHandle.close()"
   ]
  },
  {
   "cell_type": "markdown",
   "metadata": {},
   "source": [
    "# G. Introduction to Algorithm Analysis: Searching & Sorting\n",
    "\n",
    "\"Algorithm analysis is concerned with comparing algorithms based upon the amount of computing resources that each algorithm uses. We want to be able to consider two algorithms and say that one is better than the other because it is more efficient in its use of those resources or perhaps because it simply uses fewer.\"\n",
    "\n",
    "<b>Sample Problem </b><br/>Compute the sum of the first N positive integers</b><br/><br/><b>Solution 1</b>\n",
    "\n"
   ]
  },
  {
   "cell_type": "code",
   "execution_count": null,
   "metadata": {
    "collapsed": true
   },
   "outputs": [],
   "source": [
    "n = int(input(\"Give N: \"))\n",
    "\n",
    "sum_res = 0\n",
    "for i in range(1, n+1):\n",
    "    sum_res += i\n",
    "    \n",
    "print(\"Sum of first\", n, \"numbers is \", sum_res)"
   ]
  },
  {
   "cell_type": "markdown",
   "metadata": {},
   "source": [
    "<b>Solution 2</b>"
   ]
  },
  {
   "cell_type": "code",
   "execution_count": null,
   "metadata": {
    "collapsed": true
   },
   "outputs": [],
   "source": [
    "n = int(input(\"Give N: \"))\n",
    "\n",
    "sum_res = (n)*((n+1)/2)\n",
    "\n",
    "print(\"Sum of first\", n, \"numbers is \", int(sum_res))"
   ]
  },
  {
   "cell_type": "markdown",
   "metadata": {},
   "source": [
    "## Searching\n",
    "\n",
    "Consider searching for a given value v in an list of size N. There are 2 basic approaches: sequential search and binary search."
   ]
  },
  {
   "cell_type": "code",
   "execution_count": null,
   "metadata": {
    "collapsed": true
   },
   "outputs": [],
   "source": [
    "#generates a list of 10 numbers from within 0-100 range\n",
    "def generateNumbers():\n",
    "    import random\n",
    "    number_list = random.sample(range(100),5)\n",
    "    return number_list"
   ]
  },
  {
   "cell_type": "markdown",
   "metadata": {},
   "source": [
    "#### Sequential Search\n",
    "\n",
    "<b>Algorithm: </b>\n",
    "\n",
    "Sequential search involves looking at each value in turn (i.e., start with the value in list[0], then list[1], etc). The algorithm quits and returns true if the current value is v; it quits and returns false if it has looked at all of the values in the array without finding v. \n",
    "<br/><br/>\n",
    "<b>Program: </b>"
   ]
  },
  {
   "cell_type": "code",
   "execution_count": null,
   "metadata": {},
   "outputs": [],
   "source": [
    "#checks if a given number is inside the provided list, return true if yes, otherwise, false\n",
    "def isNumberInList(num, number_list):\n",
    "    for i in range(0, 10):\n",
    "        if(num == number_list[i]):\n",
    "            return True\n",
    "    return False\n",
    "\n",
    "print(\"Generating numbers...\")\n",
    "numbers = generateNumbers()\n",
    "\n",
    "check_num = int(input(\"Give me an integer: \"))\n",
    "print()\n",
    "if isNumberInList(check_num, numbers):\n",
    "    print(check_num, \"is in the list. \")\n",
    "else:\n",
    "    print(check_num, \"is not in the list. \")\n",
    "\n",
    "print(\"Actual list:\", numbers)\n"
   ]
  },
  {
   "cell_type": "markdown",
   "metadata": {},
   "source": [
    "#### Binary Search\n",
    "\n",
    "<b>Algorithm: </b>\n",
    "\n",
    "When the values are in sorted order, a better approach than the one given above is to use binary search. The algorithm for binary search starts by looking at the middle item x. If x is equal to v, it quits and returns true. Otherwise, it uses the relative ordering of x and v to eliminate half of the list (if v is less than x, then it can't be stored to the right of x in the list; similarly, if it is greater than x, it can't be stored to the left of x). Once half of the list has been eliminated, the algorithm starts again by looking at the middle item in the remaining half. It quits when it finds v or when the entire list has been eliminated.\n",
    "<br/><br/>"
   ]
  },
  {
   "cell_type": "markdown",
   "metadata": {},
   "source": [
    "## Sorting\n",
    "\n",
    "Consider sorting the values in an list A of size N. Most sorting algorithms involve what are called comparison sorts; i.e., they work by comparing values. The four most common comparison-sort algorithms are: <ul><li>selection sort</li><li>insertion sort</li><li>merge sort</li><li>quick sort</li></ul>"
   ]
  },
  {
   "cell_type": "markdown",
   "metadata": {},
   "source": [
    "#### Selection Sort\n",
    "\n",
    "<b>Algorithm: </b>\n",
    "\n",
    "The idea of algorithm is quite simple. List is imaginary divided into two parts - sorted one and unsorted one. At the beginning, sorted part is empty, while unsorted one contains whole array. At every step, algorithm <b>finds minimal element in the unsorted part</b> and adds it to the end of the sorted one. When unsorted part becomes empty, algorithm stops. When algorithm sorts an array, it swaps first element of unsorted part with minimal element and then it is included to the sorted part. \n",
    "\n",
    "\n",
    "<b>Pseudocode: </b><ul><li>Find the smallest value in A; put it in A[0].</li><li>Find the second smallest value in A; put it in A[1].</li><li>etc.</li></ul>\n",
    "<b>Program: </b>"
   ]
  },
  {
   "cell_type": "code",
   "execution_count": null,
   "metadata": {},
   "outputs": [],
   "source": [
    "#scans through the list and returns the index containing the minimum value\n",
    "def findMinimal(numbers, start):\n",
    "    index_min = start\n",
    "    for i in range(start+1, len(numbers)):\n",
    "        if(numbers[index_min] > numbers[i]):\n",
    "            index_min = i\n",
    "    return index_min\n",
    "        \n",
    "#performs selection sort on an unsorted list and returns a sorted list\n",
    "def selectionSort(numbers):\n",
    "    for i in range(0, len(numbers)):    \n",
    "        min_index = findMinimal(numbers, i)\n",
    "        #swap\n",
    "        temp = numbers[i]\n",
    "        numbers[i] = numbers[min_index]\n",
    "        numbers[min_index] = temp\n",
    "                    \n",
    "    return numbers\n",
    "    \n",
    "\n",
    "numbers = generateNumbers()\n",
    "print(\"Original list:\", numbers)\n",
    "sorted_numbers = selectionSort(numbers)\n",
    "print(\"Sorted list:  \", sorted_numbers)"
   ]
  },
  {
   "cell_type": "markdown",
   "metadata": {},
   "source": [
    "#### Insertion Sort\n",
    "\n",
    "<b>Algorithm: </b>\n",
    "\n",
    "Insertion sort algorithm somewhat resembles selection sort. List is imaginary divided into two parts - sorted one and unsorted one. At the beginning, sorted part contains first element of the list and unsorted one contains the rest. At every step, algorithm <b>takes first element in the unsorted part and inserts it to the right place of the sorted one</b>. When unsorted part becomes empty, algorithm stops. \n",
    "\n",
    "\n",
    "<b>Pseudocode: </b><ul><li>Put the first 2 items in correct relative order.</li><li>Insert the 3rd item in the correct place relative to the first 2.</li><li>Insert the 4th item in the correct place relative to the first 3.</li><li>etc.</li></ul>"
   ]
  },
  {
   "cell_type": "markdown",
   "metadata": {},
   "source": [
    "## Challenge! Write the following to code\n",
    "\n",
    "Given the sorted list provided using selection sort, create a program that implements binary search"
   ]
  },
  {
   "cell_type": "code",
   "execution_count": null,
   "metadata": {
    "collapsed": true
   },
   "outputs": [],
   "source": []
  },
  {
   "cell_type": "markdown",
   "metadata": {},
   "source": [
    "# H. Introduction to Algorithm Design Technique: Recursion\n",
    "\n",
    "Algorithm design techniques are general approaches to the construction of efficient solution to problems. These techniques provide templates in solving broad range of problems, and also enables more precise analysis of the \"chosen\" algorithm.\n",
    "\n",
    "Some of the most used algorithm design techniques are:\n",
    "<ul><li>Brute Force<br/>- also called exhaustive search as it enumerates all possible candidates for the solution and checks whether each candidate satisfies the problem's statement. <br/>- cryptography, password guessing</li><li>Greedy Technique<br/> - finds the solution by taking the best local solution at each step. <br/> - used when working with optimization problem (i.e. travelling salesman problem)</li><li>Decrease-and-Conquer<br/> - main idea: break the problem into smaller instance of the problem, then solve the smaller instance first.<br/> - i.e. binary search</li><li>Divide-and-Conquer<br/> - main idea: break the problem into its smaller subcomponents (or subproblems), then solve the subproblems first<br/> - i.e. mergesort </li></ul>"
   ]
  },
  {
   "cell_type": "markdown",
   "metadata": {},
   "source": [
    "## Recursion\n",
    "\n",
    "- process of defining a problem (or the solution to a problem) in terms of (a simpler version of) itself\n",
    "- examples,\n",
    "    - real world: image created provide 2 facing mirrors\n",
    "    - problems: fibonacci sequence (F(i) = F(i-1)+F(i-2)\n",
    "\n",
    "3 Laws of Recursion \n",
    "\n",
    "<ul><ol><li>A recursive algorithm must have a <b>base case</b>.</li><li>A recursive algorithm must change its state and move toward the base case.</li><li>A recursive algorithm must call itself (<b>recursive call</b>), recursively.</li></ol></ul>\n",
    "\n",
    "<i>Note: Recursion is mathematical induction applied</i><br/>\n",
    "<b>Programming note: recursion are just function call to itself</b>"
   ]
  },
  {
   "cell_type": "markdown",
   "metadata": {},
   "source": [
    "### Example 1: Fibonacci Sequence\n",
    "\n",
    "Problem: Create an integer sequence where, every number is the sum of the previous 2 numbers. The first 2 numbers are 1 and 1<br/> Result: 1,1,2,3,5,8,13,21,34,55,89,... <br/><br/>base case? stopping condition that provides a result without the need of a recursive call.<br/> - for our problem: F(1) = 1 & F(2) = 1<br/>recursive call? the algorithm must call itself atleast once.<br/> - for our problem: F(n) = F(n-1) + F(n-2)"
   ]
  },
  {
   "cell_type": "code",
   "execution_count": null,
   "metadata": {},
   "outputs": [],
   "source": [
    "def fibo(n):\n",
    "    if n <= 2:\n",
    "        return 1\n",
    "    else:\n",
    "        return fibo(n-1) + fibo(n-2)\n",
    "\n",
    "n = int(input(\"Give me any integer n: \"))\n",
    "fibo_result = fibo(n)\n",
    "print(\"The\", n,\"th fibonacci number is:\", fibo_result)"
   ]
  },
  {
   "cell_type": "markdown",
   "metadata": {},
   "source": [
    "### Example 2: Binary Search\n",
    "\n",
    "Problem: Given a list of ordered numbers, find if the value n exists in the list. <br/>Approach: decrease the search space dependent on the previous search status<br/><br/>base case? .<br/> - for our problem: (1) F(start,end) where start >= end, n not in the list; (2) F(start, end) where list[middle] == n, n in the list. <br/>recursive call? <br/> - for our problem: (1) if n > list[middle] then, F(start,end) = F(middle+1, end); (2) if n < list[middle] then, F(start,end) = F(start, middle-1)"
   ]
  },
  {
   "cell_type": "code",
   "execution_count": null,
   "metadata": {},
   "outputs": [],
   "source": [
    "def binarySearch(num_list, value, start, end):\n",
    "    middle = (start+end)//2\n",
    "    if(num_list[middle] == value):\n",
    "        return True\n",
    "    elif(start >= end):\n",
    "        return False\n",
    "    else:\n",
    "        if value > num_list[middle]:\n",
    "            return binarySearch(num_list, value, middle+1, end)\n",
    "        else:\n",
    "            return binarySearch(num_list, value, start, middle-1)\n",
    "\n",
    "numbers = generateNumbers()\n",
    "print(\"Original list:\", numbers)\n",
    "sorted_numbers = selectionSort(numbers)\n",
    "print(\"Sorted list:  \", sorted_numbers)\n",
    "\n",
    "n = int(input(\"Give me any integer n: \"))\n",
    "binSearch_result = binarySearch(sorted_numbers, n, 0, len(sorted_numbers)-1)\n",
    "print(\"The value\", n, \"is\", end='')\n",
    "if binSearch_result:\n",
    "    print(\" in the list\")\n",
    "else:\n",
    "    print(\" not in the list\")"
   ]
  },
  {
   "cell_type": "markdown",
   "metadata": {},
   "source": [
    "## Challenge! Write the following to code\n",
    "\n",
    "Problem: Factorial, where 0! = 1 <br/>\n",
    "Example: 5!= 5 x 4 x 3 x 2 x 1\n",
    "\n",
    "base case?<br/>\n",
    "recursive call? "
   ]
  },
  {
   "cell_type": "code",
   "execution_count": null,
   "metadata": {},
   "outputs": [],
   "source": [
    "def mult(x,y): #this is a recursive function for multiplication\n",
    "\t#base cases\n",
    "\tif x == 0:\n",
    "\t\treturn 0\n",
    "\telif y == 0:\n",
    "\t\treturn 0\n",
    "\telif x == 1:\n",
    "\t\treturn y\n",
    "\telif y == 1:\n",
    "\t\treturn x\n",
    "\t#recursive case\n",
    "\telse:\n",
    "\t\treturn x + mult(x,y-1)\n",
    "\n",
    "x = int(input(\"Input number x: \"))\n",
    "y = int(input(\"Input number y: \"))\n",
    "print(mult(x,y))"
   ]
  },
  {
   "cell_type": "markdown",
   "metadata": {},
   "source": [
    "## Visual examples of Recursion\n",
    "\n",
    "Introducing... Turtle :) \n",
    "<br/>\n",
    "“Turtle” is a python feature like a drawing board, which lets you command a turtle to draw all over it!"
   ]
  },
  {
   "cell_type": "markdown",
   "metadata": {},
   "source": [
    "#### Important Turtle functions\n",
    "\n",
    "<ul><li>turtle.forward(100)     -- turtle goes forward 100 steps</li><li>turtle.right(90)        -- turtle turns right 90 degrees</li><li>turtle.penup()          -- turtle lifts its pen up off of the paper</li><li>turtle.forward(100)     -- turtle goes forward 100 steps</li><li>turtle.pendown()        -- turtle puts its pen down on the paper</li><li>turtle.pencolor(\"red\")  -- turtle uses red pen</li><li>turtle.circle(100)      -- turtle draws circle of radius 100 </li><li>turtle.pencolor(\"blue\") -- turtle changes to blue pen (most other common colors work too!)</li><li>turtle.forward(50)      -- turtle moves forward 50 steps</li><li>turtle.xcor()           -- turtle returns its current x-coordinate</li><li>turtle.ycor()           -- turtle returns its current y-coordinate</li></ul>"
   ]
  },
  {
   "cell_type": "markdown",
   "metadata": {},
   "source": [
    "### Example 1: Drawing square spiral"
   ]
  },
  {
   "cell_type": "code",
   "execution_count": null,
   "metadata": {},
   "outputs": [],
   "source": [
    "import turtle\n",
    "\n",
    "myTurtle = turtle.Turtle()\n",
    "myWin = turtle.Screen()\n",
    "\n",
    "def drawSpiral(myTurtle, lineLen):\n",
    "    if lineLen > 0:\n",
    "        myTurtle.forward(lineLen)\n",
    "        myTurtle.right(90)\n",
    "        drawSpiral(myTurtle,lineLen-5)\n",
    "\n",
    "drawSpiral(myTurtle,100)\n",
    "myWin.exitonclick()"
   ]
  },
  {
   "cell_type": "markdown",
   "metadata": {},
   "source": [
    "### Example 2: Drawing a tree with 5 branches"
   ]
  },
  {
   "cell_type": "code",
   "execution_count": null,
   "metadata": {
    "collapsed": true
   },
   "outputs": [],
   "source": [
    "import turtle\n",
    "\n",
    "t = turtle.Turtle()\n",
    "myWin = turtle.Screen()\n",
    "\n",
    "def tree(branchLen,t):\n",
    "    if branchLen > 5:\n",
    "        t.forward(branchLen)\n",
    "        t.right(20)\n",
    "        tree(branchLen-15,t)\n",
    "        t.left(40)\n",
    "        tree(branchLen-15,t)\n",
    "        t.right(20)\n",
    "        t.backward(branchLen)\n",
    "        \n",
    "t.left(90)\n",
    "t.up()\n",
    "t.backward(100)\n",
    "t.down()\n",
    "t.color(\"green\")\n",
    "tree(75,t)\n",
    "myWin.exitonclick()\n",
    "\n"
   ]
  },
  {
   "cell_type": "markdown",
   "metadata": {},
   "source": [
    "### Example 3: Visualizing Fibonacci Sequence"
   ]
  },
  {
   "cell_type": "code",
   "execution_count": null,
   "metadata": {
    "collapsed": true
   },
   "outputs": [],
   "source": [
    "import turtle\n",
    "\n",
    "t = turtle.Turtle()\n",
    "myWin = turtle.Screen()\n",
    "\n",
    "def drawfib(n, len_ang):\n",
    "    t.forward(2 * len_ang)\n",
    "    if n <= 2:\n",
    "        pass # Do nothing.\n",
    "    else:\n",
    "        t.left(len_ang)\n",
    "        drawfib(n - 1, len_ang)\n",
    "        t.right(2 * len_ang)\n",
    "        drawfib(n - 2, len_ang)\n",
    "        t.left(len_ang)\n",
    "    t.backward(2 * len_ang)\n",
    "\n",
    "# t.penup()\n",
    "# t.setpos(0, -50)\n",
    "# t.pendown()\n",
    "# drawfib(15, 10)\n",
    "\n",
    "start_points = [[-300, 250], [-150, 250], [-300, 110], [-80, 110],[-300, -150], [50, -150]]\n",
    "n = 0\n",
    "for start_point in start_points:\n",
    "    x, y = start_point\n",
    "    n = n + 1\n",
    "    t.penup()\n",
    "    t.setpos(x, y)\n",
    "    t.pendown()\n",
    "    drawfib(n, 30)\n",
    "\n",
    "myWin.exitonclick()"
   ]
  },
  {
   "cell_type": "markdown",
   "metadata": {},
   "source": [
    "# Resources\n",
    "\n",
    "<ul><li>DOST Artificial Intelligence Summer School 2017. Training Module 1</li><li>JM Bawagan. Introduction to Programming (in Python) Laboratory Guide</li><li>Programming - Functions. http://www.cs.utah.edu/~germain/PPS/Topics/functions.html</li><li>User-Defined Functions in Python. https://www.codementor.io/kaushikpal/user-defined-functions-in-python-8s7wyc8k2</li><li>Data Structures. http://www.yourownlinux.com/2016/10/introduction-python-list-tuple-dictionary-string-set-file-object.html</li><li>Searching and Sorting. http://pages.cs.wisc.edu/~bobh/367/SORTING.html http://www.algolist.net/Algorithms/Sorting/</li><li>Recusive Programming. https://www.cs.cmu.edu/~adamchik/15-121/lectures/Recursions/recursions.html</li><li>Turtle. https://opentechschool.github.io/python-beginners/en/simple_drawing.html</li></ul>"
   ]
  },
  {
   "cell_type": "markdown",
   "metadata": {},
   "source": [
    "# The END.\n",
    "\n",
    "Hi CMSC 11 mid-sem students! :) This is the end of our lessons! :D Hope you got something out of this course :) The LORD Jesus bless you!<br/>Sharing, Ecclesiastes 12:1,12b-14<br/>\n",
    "<center>Remember your Creator<br/>in the days of your youth, <br/>before the days of trouble come<br/>and the years approach when you will say,<br/>“I find no pleasure in them”—\"<br/>...<br/>Of making many books there is no end, and much study wearies the body.<br/><br/>Now all has been heard;<br/>here is the conclusion of the matter:<br/>Fear God and keep his commandments,<br/>for this is the duty of all mankind.<br/>For God will bring every deed into judgment,<br/>including every hidden thing,<br/>whether it is good or evil.</center>"
   ]
  }
 ],
 "metadata": {
  "kernelspec": {
   "display_name": "Python 3",
   "language": "python",
   "name": "python3"
  },
  "language_info": {
   "codemirror_mode": {
    "name": "ipython",
    "version": 3
   },
   "file_extension": ".py",
   "mimetype": "text/x-python",
   "name": "python",
   "nbconvert_exporter": "python",
   "pygments_lexer": "ipython3",
   "version": "3.6.1"
  },
  "widgets": {
   "application/vnd.jupyter.widget-state+json": {
    "state": {},
    "version_major": 1,
    "version_minor": 0
   }
  }
 },
 "nbformat": 4,
 "nbformat_minor": 1
}
