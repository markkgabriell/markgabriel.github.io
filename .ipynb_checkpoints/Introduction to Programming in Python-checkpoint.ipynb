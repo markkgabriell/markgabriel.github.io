{
 "cells": [
  {
   "cell_type": "markdown",
   "metadata": {},
   "source": [
    "# Python Programming\n",
    "## Welcome to Jupyter (a.k.a. Ipython Notebooks)\n",
    "Take a while to adjust your bearings. Study the icons above.\n",
    "\n",
    "There are two major types of cells:\n",
    "\n",
    "1) Markdown cells - simple text. One can do html tags like <b>BOLD</b> or latex like $\\beta$.\n",
    "\n",
    "2) Code cells - cells where we can run code.\n",
    "\n",
    "<b>Shortcuts</b>\n",
    "\n",
    "1) <b>CTRL-M</b> then <b>H</b> to see help\n",
    "\n",
    "2) <b>CTRL-M</b> then <b>S</b> to save notebook\n",
    "\n",
    "3) <b>CTRL-ENTER</b> to Run Code but stay in the same cell\n",
    "\n",
    "4) <b>SHIFT-ENTER</b> to Run Code and advance to the next cell\n",
    "\n",
    "5) Using <b>%pylab inline</b> preceeding everything else in the notebook imports already matplotlib and numpy. It also enables our graphics to be part of the notebook.\n",
    "\n",
    "6) You can use <b>TAB</b> to see available functions. You can use <b>SHIFT-TAB</b> repeatedly for the documentation."
   ]
  },
  {
   "cell_type": "markdown",
   "metadata": {},
   "source": [
    "# A. Python Programming Language\n",
    "\n",
    "Why python? \n",
    "What is python?"
   ]
  },
  {
   "cell_type": "markdown",
   "metadata": {},
   "source": [
    "# B. Variables and Data Types\n",
    "\n",
    "Python uses five standard data types:\n",
    "\n",
    "### Numbers"
   ]
  },
  {
   "cell_type": "code",
   "execution_count": null,
   "metadata": {
    "collapsed": true
   },
   "outputs": [],
   "source": [
    "varNum = 123\n",
    "pi = 3.14159\n",
    "print(pi)"
   ]
  },
  {
   "cell_type": "markdown",
   "metadata": {},
   "source": [
    "varNum is an Integer, thus it does not handle numbers with decimal places while pi is a Float where values in the decimal place are handled."
   ]
  },
  {
   "cell_type": "markdown",
   "metadata": {},
   "source": [
    "### Strings"
   ]
  },
  {
   "cell_type": "code",
   "execution_count": null,
   "metadata": {
    "collapsed": true
   },
   "outputs": [],
   "source": [
    "varString = \"Hello World!\"\n",
    "varText = 'This is a String'"
   ]
  },
  {
   "cell_type": "markdown",
   "metadata": {},
   "source": [
    "Strings may be declared with a single quote (') or double quote (\"), some even use triple double quotes(\"\"\"). One may use them interchangeable but some prefer to follow a specific format."
   ]
  },
  {
   "cell_type": "markdown",
   "metadata": {},
   "source": [
    "##### note: there are still other data type supported in python (we'll discuss in later time). "
   ]
  },
  {
   "cell_type": "markdown",
   "metadata": {},
   "source": [
    "In order to properly communicate with the computer, we should be clear with the kind of data we are working on. \n",
    "\n",
    "To check the type of data a variable is, we do:"
   ]
  },
  {
   "cell_type": "code",
   "execution_count": null,
   "metadata": {
    "collapsed": true
   },
   "outputs": [],
   "source": [
    "type(pi)"
   ]
  },
  {
   "cell_type": "markdown",
   "metadata": {},
   "source": [
    "## Input and Output"
   ]
  },
  {
   "cell_type": "markdown",
   "metadata": {},
   "source": [
    "For us to know the value of a variable, we display the value by invoking:"
   ]
  },
  {
   "cell_type": "code",
   "execution_count": null,
   "metadata": {
    "collapsed": true
   },
   "outputs": [],
   "source": [
    "print(varString)"
   ]
  },
  {
   "cell_type": "markdown",
   "metadata": {},
   "source": [
    "For instances were the data will be coming \"live\" from the user, we request the data from the user and store the data to a variable name by invoking:"
   ]
  },
  {
   "cell_type": "code",
   "execution_count": null,
   "metadata": {
    "collapsed": true
   },
   "outputs": [],
   "source": [
    "user_number = input(\"Give me a number: \")\n",
    "print(\"The user gave the number\", user_number)"
   ]
  },
  {
   "cell_type": "markdown",
   "metadata": {},
   "source": [
    "## Arithmetic\n",
    "\n",
    "Python uses basic arithmetic functions which are normally present on most if not all programming languages.\n",
    "\n",
    "### Addition"
   ]
  },
  {
   "cell_type": "code",
   "execution_count": null,
   "metadata": {
    "collapsed": true
   },
   "outputs": [],
   "source": [
    "a = 5 + 3\n",
    "print(\"The value of a is\", a)"
   ]
  },
  {
   "cell_type": "markdown",
   "metadata": {},
   "source": [
    "### Subtraction"
   ]
  },
  {
   "cell_type": "code",
   "execution_count": null,
   "metadata": {
    "collapsed": true
   },
   "outputs": [],
   "source": [
    "a = 5 - 3\n",
    "print(a)"
   ]
  },
  {
   "cell_type": "markdown",
   "metadata": {},
   "source": [
    "### Multiplication"
   ]
  },
  {
   "cell_type": "code",
   "execution_count": null,
   "metadata": {
    "collapsed": true
   },
   "outputs": [],
   "source": [
    "a = 5 * 3\n",
    "print(a)"
   ]
  },
  {
   "cell_type": "markdown",
   "metadata": {},
   "source": [
    "### Exponent"
   ]
  },
  {
   "cell_type": "code",
   "execution_count": null,
   "metadata": {
    "collapsed": true
   },
   "outputs": [],
   "source": [
    "a = 5 ** 3\n",
    "print(a)"
   ]
  },
  {
   "cell_type": "markdown",
   "metadata": {},
   "source": [
    "### Division"
   ]
  },
  {
   "cell_type": "code",
   "execution_count": null,
   "metadata": {
    "collapsed": true
   },
   "outputs": [],
   "source": [
    "a = 5 / 3\n",
    "print(a)"
   ]
  },
  {
   "cell_type": "markdown",
   "metadata": {},
   "source": [
    "### Modulus Division"
   ]
  },
  {
   "cell_type": "code",
   "execution_count": null,
   "metadata": {
    "collapsed": true
   },
   "outputs": [],
   "source": [
    "a = 1.2 % 1\n",
    "print(a)"
   ]
  },
  {
   "cell_type": "markdown",
   "metadata": {},
   "source": [
    "### Integer Division"
   ]
  },
  {
   "cell_type": "code",
   "execution_count": null,
   "metadata": {
    "collapsed": true
   },
   "outputs": [],
   "source": [
    "a = 5 // 3\n",
    "print(a)"
   ]
  },
  {
   "cell_type": "markdown",
   "metadata": {},
   "source": [
    "### Increment"
   ]
  },
  {
   "cell_type": "code",
   "execution_count": null,
   "metadata": {
    "collapsed": true
   },
   "outputs": [],
   "source": [
    "a += 1\n",
    "print(a)"
   ]
  },
  {
   "cell_type": "markdown",
   "metadata": {},
   "source": [
    "### Decrement"
   ]
  },
  {
   "cell_type": "code",
   "execution_count": null,
   "metadata": {
    "collapsed": true
   },
   "outputs": [],
   "source": [
    "a -= 5\n",
    "print(a)"
   ]
  },
  {
   "cell_type": "markdown",
   "metadata": {},
   "source": [
    "<b>NOTE:</b> Python does not support the increment/decrement syntax of <b>x++/x--</b> instead you may use the syntax of <b>x+=1/x-=1</b> which is similar to <b>x=x+1/x=x-1</b>"
   ]
  },
  {
   "cell_type": "markdown",
   "metadata": {},
   "source": [
    "### String Concatenation"
   ]
  },
  {
   "cell_type": "markdown",
   "metadata": {},
   "source": [
    "Strings may also be appended with the use of the plus <b>(+)</b> symbol"
   ]
  },
  {
   "cell_type": "code",
   "execution_count": null,
   "metadata": {
    "collapsed": true
   },
   "outputs": [],
   "source": [
    "a = 'Hello ' + 'World!'\n",
    "print(a)"
   ]
  },
  {
   "cell_type": "markdown",
   "metadata": {},
   "source": [
    "### Complex Expressions"
   ]
  },
  {
   "cell_type": "code",
   "execution_count": null,
   "metadata": {
    "collapsed": true
   },
   "outputs": [],
   "source": [
    "a = 3 + 5 - 6 * 2 / 4\n",
    "a"
   ]
  },
  {
   "cell_type": "markdown",
   "metadata": {},
   "source": [
    "# Program Construct No. 1: SEQUENCE"
   ]
  },
  {
   "cell_type": "markdown",
   "metadata": {},
   "source": [
    "Sequence are solutions specified as instructions executed one after the other, in order."
   ]
  },
  {
   "cell_type": "markdown",
   "metadata": {},
   "source": [
    "## Example:"
   ]
  },
  {
   "cell_type": "markdown",
   "metadata": {},
   "source": [
    "Problem: Given 2 numbers, display the sum\n",
    "\n",
    "Solution: (Pseudocode)\n",
    "      1. Ask number from the user 2x\n",
    "      2. add the numbers\n",
    "      3. display the numbers"
   ]
  },
  {
   "cell_type": "code",
   "execution_count": null,
   "metadata": {
    "collapsed": true
   },
   "outputs": [],
   "source": [
    "user_number1 = input(\"Give me a number: \")\n",
    "user_number2 = input(\"Give me another number: \")\n",
    "sum = int(user_number1) + int(user_number2)\n",
    "print(\"The sum of\", user_number1, \" and\", user_number2, \" is\", sum)"
   ]
  },
  {
   "cell_type": "markdown",
   "metadata": {},
   "source": [
    "Problem: Compute the area of a circle\n",
    "\n",
    "Solution: (Pseudocode)\n",
    "    1. Inputs?\n",
    "    2. Steps to be done on the inputs.\n",
    "    3. Output?"
   ]
  },
  {
   "cell_type": "code",
   "execution_count": null,
   "metadata": {
    "collapsed": true
   },
   "outputs": [],
   "source": []
  },
  {
   "cell_type": "markdown",
   "metadata": {},
   "source": [
    "## Challenge! Write the following to code\n",
    "\n",
    "$$ g(z) = \\frac{1}{1+e^{z}}  $$\n",
    "\n",
    "1) z = 8, and e = 2.718 should be equal to 0.0003\n",
    "\n",
    "2) z = 2, and e = 2.718 should be equal to 0.1192246961081721"
   ]
  },
  {
   "cell_type": "code",
   "execution_count": null,
   "metadata": {
    "collapsed": true
   },
   "outputs": [],
   "source": []
  },
  {
   "cell_type": "markdown",
   "metadata": {},
   "source": [
    "<b><i>TRIVIA</i></b>: The value <b>e</b>, also called <b>Euler's number</b>, is a mathematical constant representing an irrational number that is approximately <b>2.71828</b>. Irrational, meaning the constant <b>e</b> is a real number that is unending and is unable to accurately be represented as a fraction, similar to that of <b>pi</b>."
   ]
  },
  {
   "cell_type": "markdown",
   "metadata": {},
   "source": [
    "# C. Control Statements"
   ]
  },
  {
   "cell_type": "markdown",
   "metadata": {},
   "source": [
    "\"Control statements are statements that determine whether other statements will be executed\" -- CIS, Univ. Pennsylvania\n",
    "<br/>\n",
    "\n",
    "#### Note:\n",
    "<ul>\n",
    "<li>For each line declaring either branching/iteration, a semi-colon (:) is required.</li>\n",
    "<li>Important operators for Program Construct No. 2 and 3</li>\n",
    "</ul>"
   ]
  },
  {
   "cell_type": "markdown",
   "metadata": {},
   "source": [
    "<table><tr><th colspan=2>Relational Operators</th><th colspan=2>  </th><th colspan=2>Logical Operators</th></tr><tr><td> > </td><td>Greater than</td><td rowspan=2 colspan=2>  </td><td rowspan=2 colspan=2>and</td></tr><tr><td> < </td><td>Greater than</td></tr><tr><td> >= </td><td>Greater than or equal to</td><td rowspan=2 colspan=2>  </td><td rowspan=2 colspan=2>or</td></tr><tr><td> <= </td><td>Less than or equal to</td></tr><tr><td> == </td><td>Equal</td><td rowspan=2 colspan=2>  </td><td rowspan=2 colspan=2>not</td></tr><tr><td> != </td><td>Not equal</td></tr></table>"
   ]
  },
  {
   "cell_type": "markdown",
   "metadata": {},
   "source": [
    "## Program Construct No. 2: Branching"
   ]
  },
  {
   "cell_type": "markdown",
   "metadata": {},
   "source": [
    "Branching (also called Conditionals) are solutions specified as instructions following control statements (if/switch).\n",
    "\n",
    "#### Note:\n",
    "In Python, curly brackets are not used to designate that multiple commands are inside a conditional statement, instead uniform spacing is used. Please take note however that the composition of the uniform spacing must be the same, such that if 4 spaces are being used, even though 4 spaces may have a visually similar result as a tab, interchanging them would produce an error statement. \n",
    "\n",
    "### Boolean Condition"
   ]
  },
  {
   "cell_type": "code",
   "execution_count": null,
   "metadata": {
    "collapsed": true
   },
   "outputs": [],
   "source": [
    "x = True\n",
    "if x:\n",
    "    print(\"var x is True\")\n",
    "else:\n",
    "    print(\"var x is False\")"
   ]
  },
  {
   "cell_type": "markdown",
   "metadata": {},
   "source": [
    "### String Condition"
   ]
  },
  {
   "cell_type": "code",
   "execution_count": null,
   "metadata": {
    "collapsed": true
   },
   "outputs": [],
   "source": [
    "x = \"Hello World!\"\n",
    "\n",
    "if x == 'Hello World!':\n",
    "    print(\"var x is Hello World!\")\n",
    "else:\n",
    "    print(\"var x is not Hello World!\")"
   ]
  },
  {
   "cell_type": "markdown",
   "metadata": {},
   "source": [
    "### Numerical Condition"
   ]
  },
  {
   "cell_type": "code",
   "execution_count": null,
   "metadata": {
    "collapsed": true
   },
   "outputs": [],
   "source": [
    "x = 10\n",
    "\n",
    "if x == '10':\n",
    "    print(\"var x is a String\")\n",
    "elif x == 10:\n",
    "    print(\"var x in an Integer\")\n",
    "else:\n",
    "    print(\"var x is none of the above\")"
   ]
  },
  {
   "cell_type": "markdown",
   "metadata": {},
   "source": [
    "### Multiple Conditions\n"
   ]
  },
  {
   "cell_type": "code",
   "execution_count": null,
   "metadata": {
    "collapsed": true
   },
   "outputs": [],
   "source": [
    "x = 11\n",
    "\n",
    "if x > 5 and x < 15 and x == 10:\n",
    "    print(\"var x is really 10!\")\n",
    "else:\n",
    "    print(\"var x is not really 10\")"
   ]
  },
  {
   "cell_type": "code",
   "execution_count": null,
   "metadata": {
    "collapsed": true
   },
   "outputs": [],
   "source": [
    "x = 10\n",
    "\n",
    "if x == 10 or x == 20:\n",
    "    print(\"var x can be 10 or 20\")\n",
    "else:\n",
    "    print(\"var x is not 10 nor 20\")"
   ]
  },
  {
   "cell_type": "markdown",
   "metadata": {},
   "source": [
    "## Challenge! Write the following to code\n",
    "\n",
    "Using the GWA calculator program, specify which category the GWA of the student falls under:\n",
    "<ul><li>GWA of 1.0-1.44 --> University Scholars</li><li>GWA of 1.45-1.75 --> College Scholars</li><li>GWA of 1.76-2.0 --> honor roll. </li><li>GWA of 2.01... --> UP Students, fighting maroons!</li></ul>\n"
   ]
  },
  {
   "cell_type": "code",
   "execution_count": null,
   "metadata": {
    "collapsed": true
   },
   "outputs": [],
   "source": []
  },
  {
   "cell_type": "markdown",
   "metadata": {},
   "source": [
    "## Program Construct No. 3: Iteration\n",
    "\n",
    "Iteration (also called Loops) are solutions specified as instructions executed more than once (depending on control statement loop)\n",
    "\n",
    "#### Note: \n",
    "Similar with that of Conditional Statements, commands within a loop are designated by having a uniform spacing.\n",
    "\n",
    "### For Loops"
   ]
  },
  {
   "cell_type": "code",
   "execution_count": null,
   "metadata": {
    "collapsed": true
   },
   "outputs": [],
   "source": [
    "for var in range(0,5,2):\n",
    "    print(var)"
   ]
  },
  {
   "cell_type": "markdown",
   "metadata": {},
   "source": [
    "<b>NOTE:</b> \n",
    "<br/>\n",
    "<i>range([start], stop, [step])</i>\n",
    "<br/>The command <b>range(0,5,2)</b> is equivalent to all numbers from 0 incremented by 2 until it reaches the number less than 5"
   ]
  },
  {
   "cell_type": "markdown",
   "metadata": {},
   "source": [
    "### While Loops"
   ]
  },
  {
   "cell_type": "code",
   "execution_count": null,
   "metadata": {
    "collapsed": true
   },
   "outputs": [],
   "source": [
    "var = 0\n",
    "while var < 5:\n",
    "    print(var)\n",
    "    var += 2"
   ]
  },
  {
   "cell_type": "markdown",
   "metadata": {},
   "source": [
    "### Nested Loops"
   ]
  },
  {
   "cell_type": "code",
   "execution_count": null,
   "metadata": {
    "collapsed": true
   },
   "outputs": [],
   "source": [
    "x = 0\n",
    "while x < 5:\n",
    "    for y in range(0, x):\n",
    "        print(y, end='')\n",
    "    x+=1\n",
    "    print()"
   ]
  },
  {
   "cell_type": "markdown",
   "metadata": {},
   "source": [
    "#### Note: \n",
    "<b><u>Behavior changing keywords</u></b>"
   ]
  },
  {
   "cell_type": "markdown",
   "metadata": {},
   "source": [
    "<b>break</b> exits out the smallest enclosing loop. "
   ]
  },
  {
   "cell_type": "code",
   "execution_count": null,
   "metadata": {
    "collapsed": true
   },
   "outputs": [],
   "source": [
    "while True:\n",
    "    num = int(input(\"Enter a positive number: \"))\n",
    "    \n",
    "    if num <= 0:\n",
    "        print(\"You've entered a non-positive number.\")\n",
    "        break"
   ]
  },
  {
   "cell_type": "markdown",
   "metadata": {},
   "source": [
    "<b>continue</b> forces a loop to loop again, skipping the rest of the body."
   ]
  },
  {
   "cell_type": "code",
   "execution_count": null,
   "metadata": {
    "collapsed": true
   },
   "outputs": [],
   "source": [
    "for i in range(0, 10):\n",
    "    if i%2 == 0:\n",
    "        print(\"Even \")\n",
    "        continue\n",
    "    print(\"Odd \",i)"
   ]
  },
  {
   "cell_type": "markdown",
   "metadata": {},
   "source": [
    "## Challenge! Write the following to code\n",
    "\n",
    "Using the GWA calculator program, allow the user to input at least 1, but not exceeding 10, \"grade-units\" pair ."
   ]
  },
  {
   "cell_type": "code",
   "execution_count": null,
   "metadata": {
    "collapsed": true
   },
   "outputs": [],
   "source": []
  },
  {
   "cell_type": "markdown",
   "metadata": {},
   "source": [
    "# D. Functions\n",
    "\n",
    "Real-world problems are made up of smaller problems which are also part of other problems.\n",
    "\n",
    "<b>2 types of function:</b> \n",
    "<ul><li>Built-in Functions</li><li>User-defined Functions</li></ul>"
   ]
  },
  {
   "cell_type": "markdown",
   "metadata": {},
   "source": [
    "## Built-in Functions\n",
    "\n",
    "Built-in functions are several programming routines that come built into most common programming languages. These routines are very useful for it can save you a lot of effort in writing code to perform common tasks."
   ]
  },
  {
   "cell_type": "markdown",
   "metadata": {},
   "source": [
    "### Library\n",
    "\n",
    "Libraries are collection of files containing pre-compiled routines that a program can use. "
   ]
  },
  {
   "cell_type": "markdown",
   "metadata": {},
   "source": [
    "#### Python Standard Library\n",
    "Python has its own set of built-in functions (found in https://docs.python.org/3/library/functions.html. Below are some examples:\n",
    "<ul><li>input([prompt])\n",
    "<br/>If the prompt argument is present, it is written to standard output without a trailing newline. The function then reads a line from input, converts it to a string (stripping a trailing newline), and returns that.</li><li>\n",
    "print(*objects, sep=' ', end='\\n', file=sys.stdout, flush=False)\n",
    "<br/>Print objects to the text stream file, separated by sep and followed by end. sep, end, file and flush, if present, must be given as keyword arguments.</li></ul>"
   ]
  },
  {
   "cell_type": "code",
   "execution_count": 3,
   "metadata": {},
   "outputs": [
    {
     "name": "stdout",
     "output_type": "stream",
     "text": [
      "Input a number: -3\n",
      "-3.0 is an integer\n"
     ]
    }
   ],
   "source": [
    "input_value = float(input(\"Input a number: \"))\n",
    "if input_value.is_integer() == True:\n",
    "    print(input_value, \"is an integer\")\n",
    "else:\n",
    "    print(input_value, \"is not an integer\")"
   ]
  },
  {
   "cell_type": "markdown",
   "metadata": {},
   "source": [
    "<b>Note:</b> <br/>Some operations are supported by several object types (found in https://docs.python.org/2/library/stdtypes.html); in particular, practically all objects can be compared, tested for truth value, and converted to a string (with the repr() function or the slightly different str() function).<br/>i.e.<ul><li>float.is_integer()<br/>\n",
    "Return True if the float instance is finite with integral value, and False otherwise:</li></ul>"
   ]
  },
  {
   "cell_type": "code",
   "execution_count": 4,
   "metadata": {
    "scrolled": true
   },
   "outputs": [
    {
     "name": "stdout",
     "output_type": "stream",
     "text": [
      "Is -2.0 an integer? True\n",
      "Is -2.4 an integer? False\n"
     ]
    }
   ],
   "source": [
    "result = (-2.0).is_integer()\n",
    "print(\"Is -2.0 an integer?\", result)\n",
    "result = (-2.4).is_integer()\n",
    "print(\"Is -2.4 an integer?\", result)"
   ]
  },
  {
   "cell_type": "markdown",
   "metadata": {},
   "source": [
    "<ul><li>str.lower()<br/>Return a copy of the string with all the cased characters [4] converted to lowercase.</li></ul>"
   ]
  },
  {
   "cell_type": "code",
   "execution_count": 11,
   "metadata": {},
   "outputs": [
    {
     "name": "stdout",
     "output_type": "stream",
     "text": [
      "Type anything (mix upper and lower case): LOvE\n",
      "loVe\n"
     ]
    }
   ],
   "source": [
    "string_input = input(\"Type anything (mix upper and lower case): \")\n",
    "print(string_input.swapcase())"
   ]
  },
  {
   "cell_type": "markdown",
   "metadata": {},
   "source": [
    "#### Try:\n",
    "What does the code below do?"
   ]
  },
  {
   "cell_type": "code",
   "execution_count": 12,
   "metadata": {},
   "outputs": [
    {
     "name": "stdout",
     "output_type": "stream",
     "text": [
      "Input 2 numbers:4.5, 6.7\n",
      "User values are: 4.5, and 6.7\n",
      "Is 4.5, integer? False\n",
      "Is 6.7 integer? False\n"
     ]
    }
   ],
   "source": [
    "val1, val2 = input(\"Input 2 numbers:\").split()\n",
    "print(\"User values are:\", val1, \"and\", val2)\n",
    "print(\"Is\", val1, \"integer?\", val1.isdigit())\n",
    "print(\"Is\", val2, \"integer?\", val2.isdigit())"
   ]
  },
  {
   "cell_type": "markdown",
   "metadata": {
    "collapsed": true
   },
   "source": [
    "#### Other Important Python libraries\n",
    "\n",
    "<ul><li><b>Pillow</b><br/>Contains functions for \"easy\" processing of images</li><li><b>Numpy</b><br/>Contains advance math functionalities (core library for scientific computing in python)</li><li><b>matplotlib</b><br/>Contains functions numerical plotting</li></ul>"
   ]
  },
  {
   "cell_type": "code",
   "execution_count": 17,
   "metadata": {},
   "outputs": [
    {
     "name": "stdout",
     "output_type": "stream",
     "text": [
      "7 1 1 1 "
     ]
    }
   ],
   "source": [
    "import numpy \n",
    "\n",
    "for i in range(0,4):\n",
    "    print(numpy.random.randint(1, 10), end=' ')"
   ]
  },
  {
   "cell_type": "markdown",
   "metadata": {},
   "source": [
    "### User-defined Functions\n",
    "\n",
    "User-defined functions are reusable <b>code blocks</b>, written independently by the developer. User-defined functions are created to meet certain, problem-specific requirements.\n",
    "\n",
    "Basic steps in writing user-defined functions:\n",
    "<ul><li>Step 1: Declare the function with the keyword <b><i>def</i></b> followed by the function name.</li><li>Step 2: Write the parameters <b><i>inside</i></b> the opening and closing parentheses of the function, and end the declaration with a <b><i>colon(:)</i></b>.</li><li>Step 3: Add the program statements to be executed.</li><li>Step 4: End the function with/without <b><i>return</i></b> statement</li></ul>"
   ]
  },
  {
   "cell_type": "code",
   "execution_count": 19,
   "metadata": {
    "collapsed": true
   },
   "outputs": [],
   "source": [
    "def larger(num1, num2):\n",
    "    if num1>num2:\n",
    "        return num1\n",
    "    else:\n",
    "        return num2"
   ]
  },
  {
   "cell_type": "code",
   "execution_count": 20,
   "metadata": {},
   "outputs": [
    {
     "name": "stdout",
     "output_type": "stream",
     "text": [
      "The larger number is 4\n"
     ]
    }
   ],
   "source": [
    "num = larger(3,4)\n",
    "print(\"The larger number is\", num)"
   ]
  },
  {
   "cell_type": "markdown",
   "metadata": {},
   "source": [
    "## Function Workspace\n",
    "\n",
    "Every function has its own <b>Workspace</b>. This means that every data (variable) created inside the function is only usable during the execution of the function (and then the data is deleted (or the variables go away))."
   ]
  },
  {
   "cell_type": "code",
   "execution_count": 25,
   "metadata": {},
   "outputs": [
    {
     "name": "stdout",
     "output_type": "stream",
     "text": [
      "Inside function x = 6\n",
      "z = 6\n",
      "Outside function x = 5\n",
      "y = 2\n"
     ]
    }
   ],
   "source": [
    "def f(x):\n",
    "    y=1\n",
    "    x = x+y\n",
    "    print(\"Inside function x =\", x)\n",
    "    return x\n",
    "\n",
    "x = 5\n",
    "y = 2\n",
    "z = f(x)\n",
    "print(\"z =\", z)\n",
    "print(\"Outside function x =\", x)\n",
    "print(\"y =\", y)"
   ]
  },
  {
   "cell_type": "markdown",
   "metadata": {},
   "source": [
    "## Challenge! Given the code below, convert it into a function.\n",
    "Problem: Given an integer, determine whether it is prime or composite.<br/>\n",
    "Input?<br/>\n",
    "Process?<br/>\n",
    "Output?"
   ]
  },
  {
   "cell_type": "code",
   "execution_count": 48,
   "metadata": {},
   "outputs": [
    {
     "name": "stdout",
     "output_type": "stream",
     "text": [
      "Enter multiplier:2\n",
      "Enter multiplicand5\n",
      "Multiplier is 2.0 Multiplicand is 5.0 Product is 10.0\n"
     ]
    }
   ],
   "source": [
    "def get_input (prompt):\n",
    "\n",
    "    while True: \n",
    "        operand = float(input(prompt))\n",
    "        if (operand < 0):\n",
    "            print (\"Negative Values are not allowed\")\n",
    "        elif (operand %1 !=0):\n",
    "            print (\"Foat value are not allowed\")\n",
    "        else:\n",
    "            return operand\n",
    "multiplier = get_input(\"Enter multiplier:\")\n",
    "multiplicand = get_input(\"Enter multiplicand\")\n",
    "\n",
    "product = 0\n",
    "\n",
    "for counter in range(0,int(multiplicand)):\n",
    "    product += multiplier\n",
    "print(\"Multiplier is\", multiplier, \"Multiplicand is\", multiplicand, \"Product is\", product)"
   ]
  },
  {
   "cell_type": "code",
   "execution_count": null,
   "metadata": {
    "collapsed": true
   },
   "outputs": [],
   "source": []
  },
  {
   "cell_type": "markdown",
   "metadata": {},
   "source": [
    "## Challenge! Write the following to code\n",
    "\n",
    "Given your multiplication-via-addition program. Create a <b>single function</b> for filtering correct input for multiplier and multiplicand.<br/>\n",
    "Function Name?<br/>\n",
    "Parameters?<br/>\n",
    "Return value?"
   ]
  },
  {
   "cell_type": "code",
   "execution_count": null,
   "metadata": {},
   "outputs": [
    {
     "name": "stdout",
     "output_type": "stream",
     "text": [
      "\n",
      "Enter Choice: \n"
     ]
    }
   ],
   "source": [
    "def menu (x):\n",
    "    while x == 0:\n",
    "        print(\"[1] Compute Area of a Circle\")\n",
    "        print(\"[2] Compute Perimeter of a Rectangle\")\n",
    "        print(\"[3] Compute Volume of a Cone\")\n",
    "        print(\"[4] Compute Slope of a Straight Line\")\n",
    "        print(\"[5] Exit\")\n",
    "        \n",
    "        return menu\n",
    "        \n",
    "print(\"\")\n",
    "print(\"Enter Choice: \")\n",
    "x= int(input(x))\n",
    "\n",
    "print(\"Choice is \", x)"
   ]
  },
  {
   "cell_type": "markdown",
   "metadata": {},
   "source": [
    "# Resources\n",
    "\n",
    "<ul><li>DOST Artificial Intelligence Summer School 2017. Training Module 1</li><li>JM Bawagan. Introduction to Programming (in Python) Laboratory Guide</li><li>Programming - Functions. http://www.cs.utah.edu/~germain/PPS/Topics/functions.html</li><li>User-Defined Functions in Python. https://www.codementor.io/kaushikpal/user-defined-functions-in-python-8s7wyc8k2</li></ul>"
   ]
  },
  {
   "cell_type": "code",
   "execution_count": 18,
   "metadata": {},
   "outputs": [
    {
     "name": "stdout",
     "output_type": "stream",
     "text": [
      "14\n",
      "!\n"
     ]
    },
    {
     "data": {
      "text/plain": [
       "'!'"
      ]
     },
     "execution_count": 18,
     "metadata": {},
     "output_type": "execute_result"
    }
   ],
   "source": [
    "ex_string = \"CMSC11 is fun!\"\n",
    "length = len(ex_string)\n",
    "print (length)\n",
    "print(ex_string[-1])\n",
    "ex_string[0:6]\n",
    "ex_string[::-1]\n",
    "ex_string[13]"
   ]
  },
  {
   "cell_type": "code",
   "execution_count": 19,
   "metadata": {},
   "outputs": [
    {
     "name": "stdout",
     "output_type": "stream",
     "text": [
      "Index 0 : C\n",
      "Index 1 : M\n",
      "Index 2 : S\n",
      "Index 3 : C\n",
      "Index 4 : 1\n",
      "Index 5 : 1\n",
      "Index 6 :  \n",
      "Index 7 : i\n",
      "Index 8 : s\n",
      "Index 9 :  \n",
      "Index 10 : f\n",
      "Index 11 : u\n",
      "Index 12 : n\n",
      "Index 13 : !\n"
     ]
    }
   ],
   "source": [
    "for i in range (0, len(ex_string)):\n",
    "    print (\"Index\", i, \":\",ex_string[i]) #looping with index known"
   ]
  },
  {
   "cell_type": "code",
   "execution_count": 20,
   "metadata": {},
   "outputs": [
    {
     "name": "stdout",
     "output_type": "stream",
     "text": [
      "The string C\n",
      "The string M\n",
      "The string S\n",
      "The string C\n",
      "The string 1\n",
      "The string 1\n",
      "The string  \n",
      "The string i\n",
      "The string s\n",
      "The string  \n",
      "The string f\n",
      "The string u\n",
      "The string n\n",
      "The string !\n"
     ]
    }
   ],
   "source": [
    "for j in ex_string:\n",
    "    print (\"The string\", j)"
   ]
  },
  {
   "cell_type": "code",
   "execution_count": 30,
   "metadata": {},
   "outputs": [
    {
     "name": "stdout",
     "output_type": "stream",
     "text": [
      "<built-in method lower of str object at 0x7f6564069ef0>\n"
     ]
    }
   ],
   "source": [
    "ex_string = \"CMSC11 is fun!\"\n",
    "ex_string.capitalize #tab then shift + tab tab tab tab to know what the funtion does\n",
    "print (x)"
   ]
  },
  {
   "cell_type": "code",
   "execution_count": 31,
   "metadata": {},
   "outputs": [
    {
     "name": "stdout",
     "output_type": "stream",
     "text": [
      "banana nomnomnom\n"
     ]
    }
   ],
   "source": [
    "concat = \"ban\" +\"ana\"\n",
    "repeat = \"nom\" *3\n",
    "print (concat, repeat)"
   ]
  },
  {
   "cell_type": "code",
   "execution_count": null,
   "metadata": {
    "collapsed": true
   },
   "outputs": [],
   "source": []
  }
 ],
 "metadata": {
  "kernelspec": {
   "display_name": "Python 3",
   "language": "python",
   "name": "python3"
  },
  "language_info": {
   "codemirror_mode": {
    "name": "ipython",
    "version": 3
   },
   "file_extension": ".py",
   "mimetype": "text/x-python",
   "name": "python",
   "nbconvert_exporter": "python",
   "pygments_lexer": "ipython3",
   "version": "3.6.1"
  }
 },
 "nbformat": 4,
 "nbformat_minor": 1
}
